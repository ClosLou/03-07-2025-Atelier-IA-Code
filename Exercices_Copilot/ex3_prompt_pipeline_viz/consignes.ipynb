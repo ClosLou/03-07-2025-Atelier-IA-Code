{
 "cells": [
  {
   "cell_type": "markdown",
   "id": "f7507e7f",
   "metadata": {},
   "source": [
    "# 🚀 Exercice 3 : Projet piloté par prompt\n",
    "\n",
    "## Objectif\n",
    "Démontrer la capacité de GitHub Copilot à générer une **application complète** à partir d'un prompt structuré avec chain of thought (réflexion étape par étape).\n",
    "\n",
    "## 📁 Fichiers fournis\n",
    "- `data.csv` : données biologiques de test\n",
    "- `projet_consignes.py` : **← PROMPT OPTIMISÉ À COPIER**\n",
    "- `consignes.ipynb` : ce fichier avec les instructions détaillées\n",
    "- `README.md` : guide rapide"
   ]
  },
  {
   "cell_type": "markdown",
   "id": "027e3d8f",
   "metadata": {},
   "source": [
    "## 📊 Structure des données\n",
    "\n",
    "Le fichier `data.csv` contient :\n",
    "```csv\n",
    "sample_id,group,gene_expr_1,gene_expr_2,protein_level_1,protein_level_2\n",
    "ID01,Diseased,120.5,88.2,45.1,203.4\n",
    "ID02,Diseased,125.1,85.6,47.3,210.1\n",
    "ID03,Healthy,95.2,92.3,33.8,180.9\n",
    "```\n",
    "\n",
    "- **sample_id** : identifiant unique de l'échantillon\n",
    "- **group** : variable catégorielle (Healthy, Diseased)\n",
    "- **gene_expr_1, gene_expr_2** : niveaux d'expression génique\n",
    "- **protein_level_1, protein_level_2** : niveaux de protéines"
   ]
  },
  {
   "cell_type": "markdown",
   "id": "c9193811",
   "metadata": {},
   "source": [
    "## 🧠 Principe : Chain of Thought Prompting\n",
    "\n",
    "### Qu'est-ce que le Chain of Thought ?\n",
    "Au lieu de demander directement \"Crée une app\", on guide Copilot à travers notre réflexion :\n",
    "\n",
    "1. **ANALYSE** : Comprendre le problème\n",
    "2. **ARCHITECTURE** : Définir la solution technique  \n",
    "3. **FONCTIONNALITÉS** : Lister ce qui est nécessaire\n",
    "4. **LIVRABLES** : Spécifier les fichiers attendus\n",
    "\n",
    "### Avantages de cette approche :\n",
    "- ✅ **Résultats plus précis** et complets\n",
    "- ✅ **Code mieux structuré** \n",
    "- ✅ **Documentation automatique** incluse\n",
    "- ✅ **Moins d'itérations** nécessaires"
   ]
  },
  {
   "cell_type": "markdown",
   "id": "c8a8036e",
   "metadata": {},
   "source": [
    "## 🎯 Instructions détaillées\n",
    "\n",
    "### Étape 1 : Préparation\n",
    "1. **Vérifiez le dossier** : Assurez-vous que le dossier est \"propre\" (pas d'autres fichiers Python)\n",
    "2. **Ouvrez Copilot Chat** : Icône chat ou `Ctrl+Shift+I`\n",
    "3. **Préparez le fichier test** : Vérifiez que `data.csv` est bien présent\n",
    "\n",
    "### Étape 2 : Lancement du prompt\n",
    "1. **Ouvrez** `projet_consignes.py`\n",
    "2. **Copiez** tout le prompt optimisé (de \"Je veux créer...\" jusqu'à \"Peux-tu générer...\")\n",
    "3. **Collez** dans Copilot Chat\n",
    "4. **Envoyez** et attendez la réponse\n",
    "\n",
    "### Étape 3 : Validation des fichiers créés\n",
    "Copilot devrait proposer de créer :\n",
    "- `app.py` : Application Streamlit principale\n",
    "- `requirements.txt` : Dépendances Python\n",
    "- `README.md` : Documentation\n",
    "- `utils.py` : Fonctions utilitaires (bonus)\n",
    "\n",
    "**Action** : Acceptez tous les fichiers proposés"
   ]
  },
  {
   "cell_type": "markdown",
   "id": "855e8975",
   "metadata": {},
   "source": [
    "### Étape 4 : Installation et test\n",
    "1. **Ouvrez un terminal** dans VS Code\n",
    "2. **Installez les dépendances** :\n",
    "   ```bash\n",
    "   pip install -r requirements.txt\n",
    "   ```\n",
    "3. **Lancez l'application** :\n",
    "   ```bash\n",
    "   streamlit run app.py\n",
    "   ```\n",
    "4. **Testez avec les données** : Uploadez le fichier `data.csv`\n",
    "\n",
    "### Étape 5 : Évaluation\n",
    "Vérifiez que l'application :\n",
    "- ✅ **Charge** correctement le fichier CSV\n",
    "- ✅ **Détecte** automatiquement les colonnes (catégorielle vs numériques)\n",
    "- ✅ **Génère** des violin plots pertinents\n",
    "- ✅ **Affiche** une interface utilisateur claire\n",
    "- ✅ **Gère** les erreurs potentielles"
   ]
  },
  {
   "cell_type": "markdown",
   "id": "ba44ca52",
   "metadata": {},
   "source": [
    "## 🔧 Améliorations possibles\n",
    "\n",
    "Si l'application fonctionne, testez ces demandes supplémentaires :\n",
    "\n",
    "### Amélioration A : Graphiques supplémentaires\n",
    "```\n",
    "\"Peux-tu ajouter d'autres types de visualisations : boxplots, histogrammes et scatter plots avec régression ?\"\n",
    "```\n",
    "\n",
    "### Amélioration B : Statistiques\n",
    "```\n",
    "\"Ajoute des tests statistiques automatiques (t-test, ANOVA) pour comparer les groupes et affiche les p-values\"\n",
    "```\n",
    "\n",
    "### Amélioration C : Export\n",
    "```\n",
    "\"Permets de télécharger les graphiques en PNG et les résultats statistiques en CSV\"\n",
    "```\n",
    "\n",
    "### Amélioration D : Interface\n",
    "```\n",
    "\"Améliore l'interface avec une sidebar pour les paramètres et un layout en colonnes\"\n",
    "```"
   ]
  },
  {
   "cell_type": "markdown",
   "id": "3cf6e9df",
   "metadata": {},
   "source": [
    "## 📈 Analyse des résultats\n",
    "\n",
    "### Points forts attendus :\n",
    "- ✅ **Application fonctionnelle** dès le premier essai\n",
    "- ✅ **Code propre** et bien commenté\n",
    "- ✅ **Interface intuitive** avec Streamlit\n",
    "- ✅ **Gestion d'erreurs** basique incluse\n",
    "- ✅ **Documentation** générée automatiquement\n",
    "\n",
    "### Limitations possibles :\n",
    "- ❌ **Gestion d'erreurs** peut être incomplète\n",
    "- ❌ **Design** basique (CSS par défaut)\n",
    "- ❌ **Performance** non optimisée pour gros fichiers\n",
    "- ❌ **Tests unitaires** non inclus\n",
    "\n",
    "### Enseignements :\n",
    "1. **Chain of thought** améliore significativement la qualité\n",
    "2. **Contexte détaillé** produit du code plus pertinent\n",
    "3. **Spécifications claires** réduisent les itérations\n",
    "4. **Exemples de données** aident Copilot à comprendre le domaine"
   ]
  },
  {
   "cell_type": "markdown",
   "id": "26aca99c",
   "metadata": {},
   "source": [
    "## 🎓 Objectifs pédagogiques\n",
    "\n",
    "### Ce que vous apprenez :\n",
    "- ✅ **Structurer** des prompts complexes avec chain of thought\n",
    "- ✅ **Spécifier** des architectures techniques complètes\n",
    "- ✅ **Générer** des projets multi-fichiers cohérents\n",
    "- ✅ **Tester** et valider des applications générées par IA\n",
    "\n",
    "### Compétences développées :\n",
    "- 🧠 **Prompt engineering** avancé\n",
    "- 🏗️ **Architecture** d'applications web\n",
    "- 📊 **Visualisation** de données interactives\n",
    "- 🔄 **Workflow** de développement assisté par IA\n",
    "\n",
    "### Applications pratiques :\n",
    "- 🔬 **Prototypage rapide** d'outils d'analyse\n",
    "- 📈 **Dashboards** de données personnalisés  \n",
    "- 🛠️ **Outils internes** pour équipes de recherche\n",
    "- 📚 **Support pédagogique** interactif"
   ]
  }
 ],
 "metadata": {
  "language_info": {
   "name": "python"
  }
 },
 "nbformat": 4,
 "nbformat_minor": 5
}
