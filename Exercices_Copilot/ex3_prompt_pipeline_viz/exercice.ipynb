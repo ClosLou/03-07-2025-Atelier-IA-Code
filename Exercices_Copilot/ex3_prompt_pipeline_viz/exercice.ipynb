{
 "cells": [
  {
   "cell_type": "markdown",
   "id": "3e4cbcb2",
   "metadata": {},
   "source": [
    "# Exercice 3 : Projet piloté par prompt\n",
    "\n",
    "**Objectif :** Démontrer la capacité de GitHub Copilot à générer une structure de projet complète, incluant le code d'une application, ses dépendances et sa documentation, à partir d'un unique prompt détaillé."
   ]
  },
  {
   "cell_type": "markdown",
   "id": "4661e07f",
   "metadata": {},
   "source": [
    "## Consignes\n",
    "1.  Assurez-vous que le dossier `ex3_prompt_pipeline_viz` est vide (à l'exception de ce fichier d'exercice et des données).\n",
    "2.  Ouvrez le chat de Copilot.\n",
    "3.  Copiez-collez le prompt suivant dans le chat et envoyez-le :"
   ]
  },
  {
   "cell_type": "markdown",
   "id": "3c496f2f",
   "metadata": {},
   "source": [
    "```\n",
    "Crée un outil Python qui prend en entrée un fichier CSV\n",
    "contenant des données biologiques (par exemple des niveaux\n",
    "d'expression génique avec des étiquettes de condition),\n",
    "détecte automatiquement la colonne catégorielle et les\n",
    "colonnes numériques, puis génère des graphiques en violon\n",
    "pour chaque combinaison pertinente.\n",
    "\n",
    "Ajoute une interface simple avec Streamlit pour charger le\n",
    "fichier et explorer les résultats.\n",
    "\n",
    "Génère un fichier `app.py`, un `requirements.txt` et un\n",
    "`README.md`.\n",
    "```"
   ]
  },
  {
   "cell_type": "markdown",
   "id": "6489506c",
   "metadata": {},
   "source": [
    "## Résultat attendu\n",
    "Copilot devrait vous proposer de créer les trois fichiers demandés :\n",
    "-   `app.py` : Le code source de l'application Streamlit.\n",
    "-   `requirements.txt` : La liste des librairies Python nécessaires.\n",
    "-   `README.md` : Une documentation simple pour le projet."
   ]
  },
  {
   "cell_type": "markdown",
   "id": "4e3a911b",
   "metadata": {},
   "source": [
    "## Lancement de l'application\n",
    "1.  Acceptez la création des fichiers.\n",
    "2.  Ouvrez un terminal dans VS Code.\n",
    "3.  Installez les dépendances :"
   ]
  },
  {
   "cell_type": "code",
   "execution_count": 1,
   "id": "ecb6a350",
   "metadata": {},
   "outputs": [
    {
     "name": "stdout",
     "output_type": "stream",
     "text": [
      "Defaulting to user installation because normal site-packages is not writeable\n",
      "Collecting streamlit (from -r requirements.txt (line 1))\n",
      "  Using cached streamlit-1.46.1-py3-none-any.whl.metadata (9.0 kB)\n",
      "Requirement already satisfied: pandas in c:\\users\\louis\\appdata\\roaming\\python\\python313\\site-packages (from -r requirements.txt (line 2)) (2.3.0)\n",
      "Requirement already satisfied: matplotlib in c:\\users\\louis\\appdata\\roaming\\python\\python313\\site-packages (from -r requirements.txt (line 3)) (3.10.3)\n",
      "Requirement already satisfied: seaborn in c:\\users\\louis\\appdata\\roaming\\python\\python313\\site-packages (from -r requirements.txt (line 4)) (0.13.2)\n",
      "Collecting altair<6,>=4.0 (from streamlit->-r requirements.txt (line 1))\n",
      "  Using cached altair-5.5.0-py3-none-any.whl.metadata (11 kB)\n",
      "Collecting blinker<2,>=1.5.0 (from streamlit->-r requirements.txt (line 1))\n",
      "  Using cached blinker-1.9.0-py3-none-any.whl.metadata (1.6 kB)\n",
      "Requirement already satisfied: cachetools<7,>=4.0 in c:\\users\\louis\\appdata\\roaming\\python\\python313\\site-packages (from streamlit->-r requirements.txt (line 1)) (5.5.2)\n",
      "Collecting click<9,>=7.0 (from streamlit->-r requirements.txt (line 1))\n",
      "  Using cached click-8.2.1-py3-none-any.whl.metadata (2.5 kB)\n",
      "Requirement already satisfied: numpy<3,>=1.23 in c:\\users\\louis\\appdata\\roaming\\python\\python313\\site-packages (from streamlit->-r requirements.txt (line 1)) (2.2.5)\n",
      "Requirement already satisfied: packaging<26,>=20 in c:\\users\\louis\\appdata\\roaming\\python\\python313\\site-packages (from streamlit->-r requirements.txt (line 1)) (24.2)\n",
      "Requirement already satisfied: pillow<12,>=7.1.0 in c:\\users\\louis\\appdata\\roaming\\python\\python313\\site-packages (from streamlit->-r requirements.txt (line 1)) (11.1.0)\n",
      "Requirement already satisfied: protobuf<7,>=3.20 in c:\\users\\louis\\appdata\\roaming\\python\\python313\\site-packages (from streamlit->-r requirements.txt (line 1)) (5.29.4)\n",
      "Collecting pyarrow>=7.0 (from streamlit->-r requirements.txt (line 1))\n",
      "  Using cached pyarrow-20.0.0-cp313-cp313-win_amd64.whl.metadata (3.4 kB)\n",
      "Requirement already satisfied: requests<3,>=2.27 in c:\\users\\louis\\appdata\\roaming\\python\\python313\\site-packages (from streamlit->-r requirements.txt (line 1)) (2.32.3)\n",
      "Requirement already satisfied: tenacity<10,>=8.1.0 in c:\\users\\louis\\appdata\\roaming\\python\\python313\\site-packages (from streamlit->-r requirements.txt (line 1)) (9.1.2)\n",
      "Collecting toml<2,>=0.10.1 (from streamlit->-r requirements.txt (line 1))\n",
      "  Using cached toml-0.10.2-py2.py3-none-any.whl.metadata (7.1 kB)\n",
      "Requirement already satisfied: typing-extensions<5,>=4.4.0 in c:\\users\\louis\\appdata\\roaming\\python\\python313\\site-packages (from streamlit->-r requirements.txt (line 1)) (4.12.2)\n",
      "Collecting watchdog<7,>=2.1.5 (from streamlit->-r requirements.txt (line 1))\n",
      "  Using cached watchdog-6.0.0-py3-none-win_amd64.whl.metadata (44 kB)\n",
      "Collecting gitpython!=3.1.19,<4,>=3.0.7 (from streamlit->-r requirements.txt (line 1))\n",
      "  Using cached GitPython-3.1.44-py3-none-any.whl.metadata (13 kB)\n",
      "Collecting pydeck<1,>=0.8.0b4 (from streamlit->-r requirements.txt (line 1))\n",
      "  Using cached pydeck-0.9.1-py2.py3-none-any.whl.metadata (4.1 kB)\n",
      "Requirement already satisfied: tornado!=6.5.0,<7,>=6.0.3 in c:\\users\\louis\\appdata\\roaming\\python\\python313\\site-packages (from streamlit->-r requirements.txt (line 1)) (6.5.1)\n",
      "Requirement already satisfied: python-dateutil>=2.8.2 in c:\\users\\louis\\appdata\\roaming\\python\\python313\\site-packages (from pandas->-r requirements.txt (line 2)) (2.9.0.post0)\n",
      "Requirement already satisfied: pytz>=2020.1 in c:\\users\\louis\\appdata\\roaming\\python\\python313\\site-packages (from pandas->-r requirements.txt (line 2)) (2024.2)\n",
      "Requirement already satisfied: tzdata>=2022.7 in c:\\users\\louis\\appdata\\roaming\\python\\python313\\site-packages (from pandas->-r requirements.txt (line 2)) (2025.2)\n",
      "Requirement already satisfied: contourpy>=1.0.1 in c:\\users\\louis\\appdata\\roaming\\python\\python313\\site-packages (from matplotlib->-r requirements.txt (line 3)) (1.3.2)\n",
      "Requirement already satisfied: cycler>=0.10 in c:\\users\\louis\\appdata\\roaming\\python\\python313\\site-packages (from matplotlib->-r requirements.txt (line 3)) (0.12.1)\n",
      "Requirement already satisfied: fonttools>=4.22.0 in c:\\users\\louis\\appdata\\roaming\\python\\python313\\site-packages (from matplotlib->-r requirements.txt (line 3)) (4.58.1)\n",
      "Requirement already satisfied: kiwisolver>=1.3.1 in c:\\users\\louis\\appdata\\roaming\\python\\python313\\site-packages (from matplotlib->-r requirements.txt (line 3)) (1.4.8)\n",
      "Requirement already satisfied: pyparsing>=2.3.1 in c:\\users\\louis\\appdata\\roaming\\python\\python313\\site-packages (from matplotlib->-r requirements.txt (line 3)) (3.2.3)\n",
      "Requirement already satisfied: jinja2 in c:\\users\\louis\\appdata\\roaming\\python\\python313\\site-packages (from altair<6,>=4.0->streamlit->-r requirements.txt (line 1)) (3.1.6)\n",
      "Collecting jsonschema>=3.0 (from altair<6,>=4.0->streamlit->-r requirements.txt (line 1))\n",
      "  Using cached jsonschema-4.24.0-py3-none-any.whl.metadata (7.8 kB)\n",
      "Collecting narwhals>=1.14.2 (from altair<6,>=4.0->streamlit->-r requirements.txt (line 1))\n",
      "  Downloading narwhals-1.45.0-py3-none-any.whl.metadata (11 kB)\n",
      "Requirement already satisfied: colorama in c:\\users\\louis\\appdata\\roaming\\python\\python313\\site-packages (from click<9,>=7.0->streamlit->-r requirements.txt (line 1)) (0.4.6)\n",
      "Collecting gitdb<5,>=4.0.1 (from gitpython!=3.1.19,<4,>=3.0.7->streamlit->-r requirements.txt (line 1))\n",
      "  Using cached gitdb-4.0.12-py3-none-any.whl.metadata (1.2 kB)\n",
      "Requirement already satisfied: six>=1.5 in c:\\users\\louis\\appdata\\roaming\\python\\python313\\site-packages (from python-dateutil>=2.8.2->pandas->-r requirements.txt (line 2)) (1.17.0)\n",
      "Requirement already satisfied: charset-normalizer<4,>=2 in c:\\users\\louis\\appdata\\roaming\\python\\python313\\site-packages (from requests<3,>=2.27->streamlit->-r requirements.txt (line 1)) (3.4.1)\n",
      "Requirement already satisfied: idna<4,>=2.5 in c:\\users\\louis\\appdata\\roaming\\python\\python313\\site-packages (from requests<3,>=2.27->streamlit->-r requirements.txt (line 1)) (3.10)\n",
      "Requirement already satisfied: urllib3<3,>=1.21.1 in c:\\users\\louis\\appdata\\roaming\\python\\python313\\site-packages (from requests<3,>=2.27->streamlit->-r requirements.txt (line 1)) (2.3.0)\n",
      "Requirement already satisfied: certifi>=2017.4.17 in c:\\users\\louis\\appdata\\roaming\\python\\python313\\site-packages (from requests<3,>=2.27->streamlit->-r requirements.txt (line 1)) (2025.1.31)\n",
      "Collecting smmap<6,>=3.0.1 (from gitdb<5,>=4.0.1->gitpython!=3.1.19,<4,>=3.0.7->streamlit->-r requirements.txt (line 1))\n",
      "  Using cached smmap-5.0.2-py3-none-any.whl.metadata (4.3 kB)\n",
      "Requirement already satisfied: MarkupSafe>=2.0 in c:\\users\\louis\\appdata\\roaming\\python\\python313\\site-packages (from jinja2->altair<6,>=4.0->streamlit->-r requirements.txt (line 1)) (3.0.2)\n",
      "Collecting attrs>=22.2.0 (from jsonschema>=3.0->altair<6,>=4.0->streamlit->-r requirements.txt (line 1))\n",
      "  Using cached attrs-25.3.0-py3-none-any.whl.metadata (10 kB)\n",
      "Collecting jsonschema-specifications>=2023.03.6 (from jsonschema>=3.0->altair<6,>=4.0->streamlit->-r requirements.txt (line 1))\n",
      "  Using cached jsonschema_specifications-2025.4.1-py3-none-any.whl.metadata (2.9 kB)\n",
      "Collecting referencing>=0.28.4 (from jsonschema>=3.0->altair<6,>=4.0->streamlit->-r requirements.txt (line 1))\n",
      "  Using cached referencing-0.36.2-py3-none-any.whl.metadata (2.8 kB)\n",
      "Collecting rpds-py>=0.7.1 (from jsonschema>=3.0->altair<6,>=4.0->streamlit->-r requirements.txt (line 1))\n",
      "  Downloading rpds_py-0.26.0-cp313-cp313-win_amd64.whl.metadata (4.3 kB)\n",
      "Using cached streamlit-1.46.1-py3-none-any.whl (10.1 MB)\n",
      "Using cached altair-5.5.0-py3-none-any.whl (731 kB)\n",
      "Using cached blinker-1.9.0-py3-none-any.whl (8.5 kB)\n",
      "Using cached click-8.2.1-py3-none-any.whl (102 kB)\n",
      "Using cached GitPython-3.1.44-py3-none-any.whl (207 kB)\n",
      "Using cached pyarrow-20.0.0-cp313-cp313-win_amd64.whl (25.7 MB)\n",
      "Using cached pydeck-0.9.1-py2.py3-none-any.whl (6.9 MB)\n",
      "Using cached toml-0.10.2-py2.py3-none-any.whl (16 kB)\n",
      "Using cached watchdog-6.0.0-py3-none-win_amd64.whl (79 kB)\n",
      "Using cached gitdb-4.0.12-py3-none-any.whl (62 kB)\n",
      "Using cached jsonschema-4.24.0-py3-none-any.whl (88 kB)\n",
      "Downloading narwhals-1.45.0-py3-none-any.whl (371 kB)\n",
      "Using cached attrs-25.3.0-py3-none-any.whl (63 kB)\n",
      "Using cached jsonschema_specifications-2025.4.1-py3-none-any.whl (18 kB)\n",
      "Using cached referencing-0.36.2-py3-none-any.whl (26 kB)\n",
      "Downloading rpds_py-0.26.0-cp313-cp313-win_amd64.whl (234 kB)\n",
      "Using cached smmap-5.0.2-py3-none-any.whl (24 kB)\n",
      "Installing collected packages: watchdog, toml, smmap, rpds-py, pyarrow, narwhals, click, blinker, attrs, referencing, pydeck, gitdb, jsonschema-specifications, gitpython, jsonschema, altair, streamlit\n",
      "Successfully installed altair-5.5.0 attrs-25.3.0 blinker-1.9.0 click-8.2.1 gitdb-4.0.12 gitpython-3.1.44 jsonschema-4.24.0 jsonschema-specifications-2025.4.1 narwhals-1.45.0 pyarrow-20.0.0 pydeck-0.9.1 referencing-0.36.2 rpds-py-0.26.0 smmap-5.0.2 streamlit-1.46.1 toml-0.10.2 watchdog-6.0.0\n"
     ]
    },
    {
     "name": "stderr",
     "output_type": "stream",
     "text": [
      "\n",
      "[notice] A new release of pip is available: 25.0.1 -> 25.1.1\n",
      "[notice] To update, run: python.exe -m pip install --upgrade pip\n"
     ]
    }
   ],
   "source": [
    "!pip install -r requirements.txt"
   ]
  },
  {
   "cell_type": "markdown",
   "id": "ce7679e8",
   "metadata": {},
   "source": [
    "4. Lancez l'application :"
   ]
  },
  {
   "cell_type": "code",
   "execution_count": 2,
   "id": "1933af47",
   "metadata": {},
   "outputs": [
    {
     "name": "stdout",
     "output_type": "stream",
     "text": [
      "^C\n"
     ]
    }
   ],
   "source": [
    "!streamlit run app.py"
   ]
  },
  {
   "cell_type": "markdown",
   "id": "b77df7bc",
   "metadata": {},
   "source": [
    "5. Un onglet de navigateur devrait s'ouvrir avec votre application. Testez-la en chargeant le fichier `data.csv`."
   ]
  }
 ],
 "metadata": {
  "kernelspec": {
   "display_name": "Python 3",
   "language": "python",
   "name": "python3"
  },
  "language_info": {
   "codemirror_mode": {
    "name": "ipython",
    "version": 3
   },
   "file_extension": ".py",
   "mimetype": "text/x-python",
   "name": "python",
   "nbconvert_exporter": "python",
   "pygments_lexer": "ipython3",
   "version": "3.13.1"
  }
 },
 "nbformat": 4,
 "nbformat_minor": 5
}
