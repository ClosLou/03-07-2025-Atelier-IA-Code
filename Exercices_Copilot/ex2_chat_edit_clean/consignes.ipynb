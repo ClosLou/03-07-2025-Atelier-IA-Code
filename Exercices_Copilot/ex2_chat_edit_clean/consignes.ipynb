{
 "cells": [
  {
   "cell_type": "markdown",
   "id": "fdc41c2d",
   "metadata": {},
   "source": [
    "# 💬 Exercice 2 : Chat et édition de code\n",
    "\n",
    "## Objectif\n",
    "Apprendre à utiliser le **chat de GitHub Copilot** pour poser des questions et demander des modifications automatiques sur un script Python existant.\n",
    "\n",
    "## 📁 Fichiers fournis\n",
    "- `data.csv` : données d'expression génique\n",
    "- `script_base.py` : **← TRAVAILLEZ DANS CE FICHIER**\n",
    "- `consignes.ipynb` : ce fichier avec les instructions détaillées\n",
    "- `README.md` : guide rapide"
   ]
  },
  {
   "cell_type": "markdown",
   "id": "e461764d",
   "metadata": {},
   "source": [
    "## 📊 Structure des données\n",
    "\n",
    "Le fichier `data.csv` contient :\n",
    "```csv\n",
    "sample,condition,gene_A,gene_B,gene_C\n",
    "S1,control,10.2,5.4,12.1\n",
    "S2,control,11.1,5.6,12.5\n",
    "S3,control,10.8,5.5,11.9\n",
    "S4,treatment,25.3,8.2,15.3\n",
    "S5,treatment,26.1,8.5,14.8\n",
    "```\n",
    "\n",
    "- **sample** : identifiant de l'échantillon\n",
    "- **condition** : groupe expérimental (control, treatment)\n",
    "- **gene_A, gene_B, gene_C** : niveaux d'expression génique (valeurs numériques)"
   ]
  },
  {
   "cell_type": "markdown",
   "id": "bf2c2794",
   "metadata": {},
   "source": [
    "## 🚀 Comment utiliser Copilot Chat\n",
    "\n",
    "### 1. Ouvrir le chat\n",
    "- Cliquez sur l'icône 💬 dans la barre d'activité à gauche\n",
    "- Ou utilisez `Ctrl+Shift+I` (Windows) / `Cmd+Shift+I` (Mac)\n",
    "\n",
    "### 2. Types de demandes possibles\n",
    "- **Questions générales** : \"Comment améliorer ce code ?\"\n",
    "- **Modifications spécifiques** : \"Ajoute une normalisation des données\"\n",
    "- **Changements de librairie** : \"Remplace matplotlib par plotly\"\n",
    "- **Ajout de fonctionnalités** : \"Ajoute une sauvegarde du graphique\""
   ]
  },
  {
   "cell_type": "markdown",
   "id": "a7395ae6",
   "metadata": {},
   "source": [
    "## 📝 Instructions pas à pas\n",
    "\n",
    "### Étape 1 : Analyse du code existant\n",
    "1. Ouvrez le fichier `script_base.py`\n",
    "2. Examinez le code de départ\n",
    "3. Exécutez-le pour voir le résultat actuel\n",
    "\n",
    "### Étape 2 : Première interaction avec le chat\n",
    "**Sélectionnez tout le code** dans `script_base.py` et demandez dans le chat :\n",
    "```\n",
    "\"Peux-tu analyser ce code et suggérer des améliorations ?\"\n",
    "```\n",
    "👀 **Observer** : Copilot va identifier des points d'amélioration possibles."
   ]
  },
  {
   "cell_type": "markdown",
   "id": "7a9dc031",
   "metadata": {},
   "source": [
    "### Étape 3 : Demande de normalisation des données\n",
    "**Sélectionnez le code** et demandez :\n",
    "```\n",
    "\"En utilisant scikit-learn, peux-tu ajouter une étape de normalisation Z-score sur les colonnes numériques avec StandardScaler avant la visualisation ?\"\n",
    "```\n",
    "\n",
    "**Résultat attendu** : Copilot devrait proposer :\n",
    "- Import de `sklearn.preprocessing.StandardScaler`\n",
    "- Normalisation des colonnes `gene_A`, `gene_B`, `gene_C`\n",
    "- Mise à jour du code de visualisation\n",
    "\n",
    "**Action** : Utilisez le bouton \"Insert at cursor\" ou \"Replace selection\" pour appliquer les modifications."
   ]
  },
  {
   "cell_type": "markdown",
   "id": "39259451",
   "metadata": {},
   "source": [
    "### Étape 4 : Changement de librairie de visualisation\n",
    "Demandez dans le chat :\n",
    "```\n",
    "\"Peux-tu remplacer la visualisation Matplotlib/Seaborn par un graphique interactif avec Plotly ?\"\n",
    "```\n",
    "\n",
    "**Résultat attendu** :\n",
    "- Import de `plotly.express` ou `plotly.graph_objects`\n",
    "- Remplacement du code matplotlib/seaborn\n",
    "- Graphique interactif avec zoom, hover, etc.\n",
    "\n",
    "**Bonus** : Demandez \"Ajoute des options d'interactivité supplémentaires\""
   ]
  },
  {
   "cell_type": "markdown",
   "id": "ba605090",
   "metadata": {},
   "source": [
    "### Étape 5 : Sauvegarde du graphique\n",
    "Demandez :\n",
    "```\n",
    "\"Comment puis-je sauvegarder ce graphique Plotly dans un fichier HTML nommé 'graph.html' ?\"\n",
    "```\n",
    "\n",
    "**Résultat attendu** : \n",
    "- Méthode `.write_html()` ou `.to_html()`\n",
    "- Code pour sauvegarder le graphique"
   ]
  },
  {
   "cell_type": "markdown",
   "id": "16781036",
   "metadata": {},
   "source": [
    "### Étape 6 : Tests supplémentaires\n",
    "\n",
    "#### Test A : Analyse statistique\n",
    "```\n",
    "\"Ajoute une analyse statistique pour comparer les groupes control vs treatment\"\n",
    "```\n",
    "\n",
    "#### Test B : Graphiques multiples\n",
    "```\n",
    "\"Crée un dashboard avec plusieurs graphiques pour explorer toutes les variables\"\n",
    "```\n",
    "\n",
    "#### Test C : Code plus propre\n",
    "```\n",
    "\"Peux-tu refactoriser ce code en utilisant des fonctions pour le rendre plus modulaire ?\"\n",
    "```\n",
    "\n",
    "#### Test D : Documentation\n",
    "```\n",
    "\"Ajoute des docstrings et des commentaires détaillés à ce code\"\n",
    "```"
   ]
  },
  {
   "cell_type": "markdown",
   "id": "c7213e9e",
   "metadata": {},
   "source": [
    "## 🎯 Objectifs pédagogiques\n",
    "\n",
    "### Ce que vous allez apprendre :\n",
    "- ✅ Formuler des demandes claires pour Copilot Chat\n",
    "- ✅ Utiliser la sélection de code pour des modifications ciblées\n",
    "- ✅ Intégrer les suggestions dans votre workflow\n",
    "- ✅ Itérer sur les améliorations avec Copilot\n",
    "\n",
    "### Fonctionnalités du chat à tester :\n",
    "- 🔍 **Analyse de code** : \"Explique-moi ce code\"\n",
    "- 🔧 **Refactoring** : \"Améliore la structure de ce code\"\n",
    "- 📚 **Ajout de librairies** : \"Utilise une autre librairie pour...\"\n",
    "- 🐛 **Debug** : \"Il y a une erreur dans ce code, peux-tu la corriger ?\"\n",
    "- 📖 **Documentation** : \"Ajoute des commentaires explicatifs\""
   ]
  },
  {
   "cell_type": "markdown",
   "id": "a39489c4",
   "metadata": {},
   "source": [
    "## 💡 Solution finale (référence)\n",
    "\n",
    "```python\n",
    "import pandas as pd\n",
    "import plotly.express as px\n",
    "from sklearn.preprocessing import StandardScaler\n",
    "import numpy as np\n",
    "\n",
    "# Chargement des données\n",
    "df = pd.read_csv('data.csv')\n",
    "\n",
    "# Normalisation des données numériques\n",
    "scaler = StandardScaler()\n",
    "numeric_cols = ['gene_A', 'gene_B', 'gene_C']\n",
    "df_scaled = df.copy()\n",
    "df_scaled[numeric_cols] = scaler.fit_transform(df[numeric_cols])\n",
    "\n",
    "# Visualisation interactive avec Plotly\n",
    "fig = px.scatter(\n",
    "    df_scaled, \n",
    "    x='gene_A', \n",
    "    y='gene_B',\n",
    "    color='condition',\n",
    "    hover_data=['sample', 'gene_C'],\n",
    "    title='Expression génique normalisée - Gene A vs Gene B',\n",
    "    labels={\n",
    "        'gene_A': 'Gene A (normalisé)',\n",
    "        'gene_B': 'Gene B (normalisé)',\n",
    "        'condition': 'Condition'\n",
    "    }\n",
    ")\n",
    "\n",
    "fig.update_layout(\n",
    "    width=800,\n",
    "    height=600,\n",
    "    hovermode='closest'\n",
    ")\n",
    "\n",
    "fig.show()\n",
    "\n",
    "# Sauvegarde du graphique\n",
    "fig.write_html('graph.html')\n",
    "print(\"Graphique sauvegardé dans 'graph.html'\")\n",
    "```"
   ]
  },
  {
   "cell_type": "markdown",
   "id": "76e35c0c",
   "metadata": {},
   "source": [
    "## 🎓 Bonnes pratiques apprises\n",
    "\n",
    "### Pour optimiser Copilot Chat :\n",
    "1. **Soyez spécifique** : \"Utilise scikit-learn\" plutôt que \"normalise les données\"\n",
    "2. **Sélectionnez le code pertinent** avant de poser votre question\n",
    "3. **Demandez des alternatives** : \"Propose 3 façons différentes de...\"\n",
    "4. **Testez les modifications** avant de passer à la suite\n",
    "5. **Itérez** : demandez des raffinements si nécessaire\n",
    "\n",
    "### Limitations observées :\n",
    "- ❌ Peut parfois proposer des solutions trop complexes\n",
    "- ❌ Nécessite parfois plusieurs essais pour le résultat souhaité\n",
    "- ❌ Important de valider les suggestions avant de les appliquer\n",
    "\n",
    "### Points forts :\n",
    "- ✅ Excellent pour découvrir de nouvelles librairies\n",
    "- ✅ Propose des alternatives créatives\n",
    "- ✅ Aide à la refactorisation et au nettoyage de code\n",
    "- ✅ Génère de la documentation automatiquement"
   ]
  }
 ],
 "metadata": {
  "language_info": {
   "name": "python"
  }
 },
 "nbformat": 4,
 "nbformat_minor": 5
}
