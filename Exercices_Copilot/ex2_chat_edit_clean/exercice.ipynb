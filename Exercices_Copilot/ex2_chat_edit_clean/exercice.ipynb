{
 "cells": [
  {
   "cell_type": "markdown",
   "id": "92de2c55",
   "metadata": {},
   "source": [
    "# Exercice 2 : Chat et édition de code\n",
    "\n",
    "**Objectif :** Utiliser le chat de GitHub Copilot pour poser des questions et demander des modifications automatiques sur un script Python existant."
   ]
  },
  {
   "cell_type": "markdown",
   "id": "d23992bb",
   "metadata": {},
   "source": [
    "## Installation des librairies\n",
    "Avant de commencer, assurez-vous que les librairies nécessaires sont installées. Exécutez la cellule suivante pour installer `pandas`, `matplotlib`, `seaborn`, `scikit-learn` et `plotly`."
   ]
  },
  {
   "cell_type": "code",
   "execution_count": 15,
   "id": "05108fce",
   "metadata": {},
   "outputs": [
    {
     "name": "stdout",
     "output_type": "stream",
     "text": [
      "Defaulting to user installation because normal site-packages is not writeable\n",
      "Requirement already satisfied: pandas in c:\\users\\louis\\appdata\\roaming\\python\\python313\\site-packages (2.3.0)\n",
      "Requirement already satisfied: matplotlib in c:\\users\\louis\\appdata\\roaming\\python\\python313\\site-packages (3.10.3)\n",
      "Requirement already satisfied: seaborn in c:\\users\\louis\\appdata\\roaming\\python\\python313\\site-packages (0.13.2)\n",
      "Requirement already satisfied: scikit-learn in c:\\users\\louis\\appdata\\roaming\\python\\python313\\site-packages (1.6.1)\n",
      "Requirement already satisfied: plotly in c:\\users\\louis\\appdata\\roaming\\python\\python313\\site-packages (6.2.0)\n",
      "Requirement already satisfied: numpy>=1.26.0 in c:\\users\\louis\\appdata\\roaming\\python\\python313\\site-packages (from pandas) (2.2.5)\n",
      "Requirement already satisfied: python-dateutil>=2.8.2 in c:\\users\\louis\\appdata\\roaming\\python\\python313\\site-packages (from pandas) (2.9.0.post0)\n",
      "Requirement already satisfied: pytz>=2020.1 in c:\\users\\louis\\appdata\\roaming\\python\\python313\\site-packages (from pandas) (2024.2)\n",
      "Requirement already satisfied: tzdata>=2022.7 in c:\\users\\louis\\appdata\\roaming\\python\\python313\\site-packages (from pandas) (2025.2)\n",
      "Requirement already satisfied: contourpy>=1.0.1 in c:\\users\\louis\\appdata\\roaming\\python\\python313\\site-packages (from matplotlib) (1.3.2)\n",
      "Requirement already satisfied: cycler>=0.10 in c:\\users\\louis\\appdata\\roaming\\python\\python313\\site-packages (from matplotlib) (0.12.1)\n",
      "Requirement already satisfied: fonttools>=4.22.0 in c:\\users\\louis\\appdata\\roaming\\python\\python313\\site-packages (from matplotlib) (4.58.1)\n",
      "Requirement already satisfied: kiwisolver>=1.3.1 in c:\\users\\louis\\appdata\\roaming\\python\\python313\\site-packages (from matplotlib) (1.4.8)\n",
      "Requirement already satisfied: packaging>=20.0 in c:\\users\\louis\\appdata\\roaming\\python\\python313\\site-packages (from matplotlib) (24.2)\n",
      "Requirement already satisfied: pillow>=8 in c:\\users\\louis\\appdata\\roaming\\python\\python313\\site-packages (from matplotlib) (11.1.0)\n",
      "Requirement already satisfied: pyparsing>=2.3.1 in c:\\users\\louis\\appdata\\roaming\\python\\python313\\site-packages (from matplotlib) (3.2.3)\n",
      "Requirement already satisfied: scipy>=1.6.0 in c:\\users\\louis\\appdata\\roaming\\python\\python313\\site-packages (from scikit-learn) (1.15.2)\n",
      "Requirement already satisfied: joblib>=1.2.0 in c:\\users\\louis\\appdata\\roaming\\python\\python313\\site-packages (from scikit-learn) (1.4.2)\n",
      "Requirement already satisfied: threadpoolctl>=3.1.0 in c:\\users\\louis\\appdata\\roaming\\python\\python313\\site-packages (from scikit-learn) (3.6.0)\n",
      "Requirement already satisfied: narwhals>=1.15.1 in c:\\users\\louis\\appdata\\roaming\\python\\python313\\site-packages (from plotly) (1.45.0)\n",
      "Requirement already satisfied: six>=1.5 in c:\\users\\louis\\appdata\\roaming\\python\\python313\\site-packages (from python-dateutil>=2.8.2->pandas) (1.17.0)\n",
      "Note: you may need to restart the kernel to use updated packages.\n"
     ]
    },
    {
     "name": "stderr",
     "output_type": "stream",
     "text": [
      "\n",
      "[notice] A new release of pip is available: 25.0.1 -> 25.1.1\n",
      "[notice] To update, run: python.exe -m pip install --upgrade pip\n"
     ]
    }
   ],
   "source": [
    "%pip install pandas matplotlib seaborn scikit-learn plotly"
   ]
  },
  {
   "cell_type": "markdown",
   "id": "a022ec13",
   "metadata": {},
   "source": [
    "## Contexte\n",
    "Le script ci-dessous charge des données et génère un premier graphique simple (un scatter plot). Nous voulons l'améliorer en interagissant avec Copilot."
   ]
  },
  {
   "cell_type": "code",
   "execution_count": null,
   "id": "904c2815",
   "metadata": {},
   "outputs": [
    {
     "ename": "ValueError",
     "evalue": "Mime type rendering requires nbformat>=4.2.0 but it is not installed",
     "output_type": "error",
     "traceback": [
      "\u001b[31m---------------------------------------------------------------------------\u001b[39m",
      "\u001b[31mValueError\u001b[39m                                Traceback (most recent call last)",
      "\u001b[36mCell\u001b[39m\u001b[36m \u001b[39m\u001b[32mIn[14]\u001b[39m\u001b[32m, line 24\u001b[39m\n\u001b[32m     16\u001b[39m \u001b[38;5;66;03m# 3. Visualisation interactive avec Plotly\u001b[39;00m\n\u001b[32m     17\u001b[39m fig = px.scatter(df, \n\u001b[32m     18\u001b[39m                  x=\u001b[33m'\u001b[39m\u001b[33mgene_A\u001b[39m\u001b[33m'\u001b[39m, \n\u001b[32m     19\u001b[39m                  y=\u001b[33m'\u001b[39m\u001b[33mgene_B\u001b[39m\u001b[33m'\u001b[39m, \n\u001b[32m   (...)\u001b[39m\u001b[32m     22\u001b[39m                  labels={\u001b[33m'\u001b[39m\u001b[33mgene_A\u001b[39m\u001b[33m'\u001b[39m: \u001b[33m'\u001b[39m\u001b[33mExpression Gene A (Z-score)\u001b[39m\u001b[33m'\u001b[39m, \u001b[33m'\u001b[39m\u001b[33mgene_B\u001b[39m\u001b[33m'\u001b[39m: \u001b[33m'\u001b[39m\u001b[33mExpression Gene B (Z-score)\u001b[39m\u001b[33m'\u001b[39m},\n\u001b[32m     23\u001b[39m                  hover_data=[\u001b[33m'\u001b[39m\u001b[33msample\u001b[39m\u001b[33m'\u001b[39m])\n\u001b[32m---> \u001b[39m\u001b[32m24\u001b[39m \u001b[43mfig\u001b[49m\u001b[43m.\u001b[49m\u001b[43mshow\u001b[49m\u001b[43m(\u001b[49m\u001b[43m)\u001b[49m\n\u001b[32m     25\u001b[39m \u001b[38;5;66;03m# Le participant utilisera le chat pour modifier ce script.\u001b[39;00m\n",
      "\u001b[36mFile \u001b[39m\u001b[32m~\\AppData\\Roaming\\Python\\Python313\\site-packages\\plotly\\basedatatypes.py:3420\u001b[39m, in \u001b[36mBaseFigure.show\u001b[39m\u001b[34m(self, *args, **kwargs)\u001b[39m\n\u001b[32m   3387\u001b[39m \u001b[38;5;250m\u001b[39m\u001b[33;03m\"\"\"\u001b[39;00m\n\u001b[32m   3388\u001b[39m \u001b[33;03mShow a figure using either the default renderer(s) or the renderer(s)\u001b[39;00m\n\u001b[32m   3389\u001b[39m \u001b[33;03mspecified by the renderer argument\u001b[39;00m\n\u001b[32m   (...)\u001b[39m\u001b[32m   3416\u001b[39m \u001b[33;03mNone\u001b[39;00m\n\u001b[32m   3417\u001b[39m \u001b[33;03m\"\"\"\u001b[39;00m\n\u001b[32m   3418\u001b[39m \u001b[38;5;28;01mimport\u001b[39;00m\u001b[38;5;250m \u001b[39m\u001b[34;01mplotly\u001b[39;00m\u001b[34;01m.\u001b[39;00m\u001b[34;01mio\u001b[39;00m\u001b[38;5;250m \u001b[39m\u001b[38;5;28;01mas\u001b[39;00m\u001b[38;5;250m \u001b[39m\u001b[34;01mpio\u001b[39;00m\n\u001b[32m-> \u001b[39m\u001b[32m3420\u001b[39m \u001b[38;5;28;01mreturn\u001b[39;00m \u001b[43mpio\u001b[49m\u001b[43m.\u001b[49m\u001b[43mshow\u001b[49m\u001b[43m(\u001b[49m\u001b[38;5;28;43mself\u001b[39;49m\u001b[43m,\u001b[49m\u001b[43m \u001b[49m\u001b[43m*\u001b[49m\u001b[43margs\u001b[49m\u001b[43m,\u001b[49m\u001b[43m \u001b[49m\u001b[43m*\u001b[49m\u001b[43m*\u001b[49m\u001b[43mkwargs\u001b[49m\u001b[43m)\u001b[49m\n",
      "\u001b[36mFile \u001b[39m\u001b[32m~\\AppData\\Roaming\\Python\\Python313\\site-packages\\plotly\\io\\_renderers.py:415\u001b[39m, in \u001b[36mshow\u001b[39m\u001b[34m(fig, renderer, validate, **kwargs)\u001b[39m\n\u001b[32m    410\u001b[39m     \u001b[38;5;28;01mraise\u001b[39;00m \u001b[38;5;167;01mValueError\u001b[39;00m(\n\u001b[32m    411\u001b[39m         \u001b[33m\"\u001b[39m\u001b[33mMime type rendering requires ipython but it is not installed\u001b[39m\u001b[33m\"\u001b[39m\n\u001b[32m    412\u001b[39m     )\n\u001b[32m    414\u001b[39m \u001b[38;5;28;01mif\u001b[39;00m \u001b[38;5;129;01mnot\u001b[39;00m nbformat \u001b[38;5;129;01mor\u001b[39;00m Version(nbformat.__version__) < Version(\u001b[33m\"\u001b[39m\u001b[33m4.2.0\u001b[39m\u001b[33m\"\u001b[39m):\n\u001b[32m--> \u001b[39m\u001b[32m415\u001b[39m     \u001b[38;5;28;01mraise\u001b[39;00m \u001b[38;5;167;01mValueError\u001b[39;00m(\n\u001b[32m    416\u001b[39m         \u001b[33m\"\u001b[39m\u001b[33mMime type rendering requires nbformat>=4.2.0 but it is not installed\u001b[39m\u001b[33m\"\u001b[39m\n\u001b[32m    417\u001b[39m     )\n\u001b[32m    419\u001b[39m display_jupyter_version_warnings()\n\u001b[32m    421\u001b[39m ipython_display.display(bundle, raw=\u001b[38;5;28;01mTrue\u001b[39;00m)\n",
      "\u001b[31mValueError\u001b[39m: Mime type rendering requires nbformat>=4.2.0 but it is not installed"
     ]
    }
   ],
   "source": [
    "import pandas as pd\n",
    "import matplotlib.pyplot as plt\n",
    "import seaborn as sns\n",
    "\n",
    "# Script de départ pour l'exercice 2\n",
    "\n",
    "# 1. Charger les données\n",
    "df = pd.read_csv('data.csv')\n",
    "\n",
    "# 2. Visualisation simple avec Matplotlib/Seaborn\n",
    "plt.figure(figsize=(10, 6))\n",
    "sns.scatterplot(data=df, x='gene_A', y='gene_B', hue='condition')\n",
    "plt.title('Expression de Gene_A vs Gene_B')\n",
    "plt.xlabel('Expression Gene A')\n",
    "plt.ylabel('Expression Gene B')\n",
    "plt.grid(True)\n",
    "plt.show()\n",
    "\n",
    "# Le participant utilisera le chat pour modifier ce script."
   ]
  },
  {
   "cell_type": "markdown",
   "id": "7bdea4c1",
   "metadata": {},
   "source": [
    "## Consignes\n",
    "1.  Ouvrez le chat de Copilot (icône sur la barre d'activité à gauche).\n",
    "2.  **Demande 1 : Normalisation avec Scikit-learn**\n",
    "    -   Sélectionnez le code dans la cellule précédente.\n",
    "    -   Dans le chat, demandez : *\"`En utilisant scikit-learn, peux-tu ajouter une étape de normalisation Z-score sur les colonnes numériques avec StandardScaler avant la visualisation ?`\"*\n",
    "    -   Copilot va proposer un bloc de code modifié. Utilisez l'option pour l'insérer dans votre fichier.\n",
    "3.  **Demande 2 : Changer de librairie de visualisation**\n",
    "    -   Demandez à Copilot : *\"`Peux-tu remplacer la visualisation Matplotlib/Seaborn par un graphique interactif avec Plotly ?`\"*\n",
    "    -   Appliquez la modification suggérée.\n",
    "4.  **Demande 3 : Exporter le graphique**\n",
    "    -   Demandez : *\"Comment puis-je sauvegarder ce graphique Plotly dans un fichier HTML nommé `graph.html` ?\"*\n",
    "    -   Intégrez la solution proposée à la fin de votre script."
   ]
  }
 ],
 "metadata": {
  "kernelspec": {
   "display_name": "Python 3",
   "language": "python",
   "name": "python3"
  },
  "language_info": {
   "codemirror_mode": {
    "name": "ipython",
    "version": 3
   },
   "file_extension": ".py",
   "mimetype": "text/x-python",
   "name": "python",
   "nbconvert_exporter": "python",
   "pygments_lexer": "ipython3",
   "version": "3.13.1"
  }
 },
 "nbformat": 4,
 "nbformat_minor": 5
}
