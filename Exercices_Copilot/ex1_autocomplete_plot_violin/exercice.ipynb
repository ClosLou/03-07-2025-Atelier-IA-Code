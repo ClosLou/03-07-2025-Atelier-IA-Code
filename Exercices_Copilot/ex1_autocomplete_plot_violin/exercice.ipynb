{
 "cells": [
  {
   "cell_type": "markdown",
   "id": "ca964105",
   "metadata": {},
   "source": [
    "# Exercice 1 : Autocomplétion en live\n",
    "\n",
    "**Objectif :** Observer comment GitHub Copilot peut compléter un script de visualisation à partir de quelques lignes de code de base."
   ]
  },
  {
   "cell_type": "markdown",
   "id": "1361547b",
   "metadata": {},
   "source": [
    "## Contexte\n",
    "Nous disposons d'un fichier de données `data.tsv` contenant deux colonnes :\n",
    "- `condition`: le groupe expérimental (ex: control, treatment).\n",
    "- `expression`: une mesure numérique (ex: niveau d'expression d'un gène).\n",
    "\n",
    "Le script Python ci-dessous a déjà été initialisé avec les librairies nécessaires."
   ]
  },
  {
   "cell_type": "markdown",
   "id": "41c49d1f",
   "metadata": {},
   "source": [
    "## Installation des librairies\n",
    "Avant de commencer, assurez-vous que les librairies nécessaires sont installées. Exécutez la cellule suivante pour installer `pandas`, `matplotlib` et `seaborn`."
   ]
  },
  {
   "cell_type": "code",
   "execution_count": null,
   "id": "eaf5dbe5",
   "metadata": {},
   "outputs": [],
   "source": [
    "%pip install pandas matplotlib seaborn"
   ]
  },
  {
   "cell_type": "code",
   "execution_count": null,
   "id": "5cf17937",
   "metadata": {},
   "outputs": [],
   "source": [
    "import pandas as pd\n",
    "import seaborn as sns\n",
    "import matplotlib.pyplot as plt\n",
    "\n",
    "\n"
   ]
  },
  {
   "cell_type": "markdown",
   "id": "d064ba86",
   "metadata": {},
   "source": [
    "## Consignes\n",
    "1.  Sous la cellule de code précédente, commencez à écrire le code pour lire les données. Tapez par exemple `df = pd.read_`. Observez comment Copilot vous suggère de compléter la ligne pour lire un fichier TSV.\n",
    "2.  Une fois les données chargées dans un DataFrame, commencez à taper le code pour créer un graphique avec Seaborn. Par exemple, tapez `sns.violin`.\n",
    "3.  Laissez Copilot vous guider pour finaliser le graphique : ajout de titres, de labels pour les axes, et affichage du plot.\n",
    "4.  (Bonus) Essayez de modifier le nom du fichier de données pour un `.csv` ou `.xlsx` et voyez si Copilot adapte sa suggestion de fonction de lecture."
   ]
  }
 ],
 "metadata": {
  "language_info": {
   "name": "python"
  }
 },
 "nbformat": 4,
 "nbformat_minor": 5
}
