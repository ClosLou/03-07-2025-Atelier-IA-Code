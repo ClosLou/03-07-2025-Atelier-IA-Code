{
 "cells": [
  {
   "cell_type": "markdown",
   "id": "9624209f",
   "metadata": {},
   "source": [
    "# 🎯 Exercice 1 : Autocomplétion GitHub Copilot\n",
    "\n",
    "## Objectif\n",
    "Observer et tester comment GitHub Copilot peut compléter automatiquement un script de visualisation à partir de quelques mots-clés.\n",
    "\n",
    "## 📁 Fichiers fournis\n",
    "- `data.tsv` : données d'expression génique\n",
    "- `exercice_copilot.py` : fichier de travail vide où vous écrirez le code\n",
    "- `consignes.ipynb` : ce fichier avec les instructions détaillées"
   ]
  },
  {
   "cell_type": "markdown",
   "id": "0dfad098",
   "metadata": {},
   "source": [
    "## 📊 Structure des données\n",
    "\n",
    "Le fichier `data.tsv` contient :\n",
    "```\n",
    "condition\texpression\n",
    "control\t1.5\n",
    "control\t1.8\n",
    "control\t1.3\n",
    "treatment\t3.4\n",
    "treatment\t3.8\n",
    "treatment\t3.5\n",
    "```\n",
    "\n",
    "- **condition** : variable catégorielle (control, treatment)\n",
    "- **expression** : variable numérique (niveaux d'expression entre 1-4)\n",
    "- **Format** : TSV (Tab-Separated Values)"
   ]
  },
  {
   "cell_type": "markdown",
   "id": "b41f533b",
   "metadata": {},
   "source": [
    "## 🚀 Instructions pas à pas\n",
    "\n",
    "### Étape 1 : Imports\n",
    "Ouvrez le fichier `exercice_copilot.py` et commencez à taper :\n",
    "```python\n",
    "import pandas\n",
    "```\n",
    "👀 **Observer** : Copilot devrait suggérer `as pd`\n",
    "\n",
    "Continuez avec :\n",
    "```python\n",
    "import seaborn\n",
    "import matplotlib\n",
    "```"
   ]
  },
  {
   "cell_type": "markdown",
   "id": "86ba9317",
   "metadata": {},
   "source": [
    "### Étape 2 : Chargement des données\n",
    "Tapez lentement :\n",
    "```python\n",
    "df = pd.read_\n",
    "```\n",
    "👀 **Observer** : Copilot devrait proposer `read_csv` ou `read_table` avec les bons paramètres pour un fichier TSV.\n",
    "\n",
    "**Astuce** : Si Copilot propose `read_csv`, il devrait automatiquement ajouter `sep='\\t'` car il voit l'extension `.tsv`."
   ]
  },
  {
   "cell_type": "markdown",
   "id": "56801aaa",
   "metadata": {},
   "source": [
    "### Étape 3 : Exploration rapide\n",
    "Testez ces débuts de ligne :\n",
    "```python\n",
    "df.head\n",
    "df.info\n",
    "df.describe\n",
    "```\n",
    "Copilot devrait compléter avec les parenthèses `()`."
   ]
  },
  {
   "cell_type": "markdown",
   "id": "3ea9c703",
   "metadata": {},
   "source": [
    "### Étape 4 : Création du graphique\n",
    "Commencez par la taille de la figure :\n",
    "```python\n",
    "plt.figure(figsize=\n",
    "```\n",
    "\n",
    "Puis le graphique principal :\n",
    "```python\n",
    "sns.violin\n",
    "```\n",
    "👀 **Observer** : Copilot devrait suggérer les bons paramètres basés sur les colonnes de votre DataFrame."
   ]
  },
  {
   "cell_type": "markdown",
   "id": "d4f54ed2",
   "metadata": {},
   "source": [
    "### Étape 5 : Personnalisation\n",
    "Testez ces débuts pour les titres et labels :\n",
    "```python\n",
    "plt.title('\n",
    "plt.xlabel('\n",
    "plt.ylabel('\n",
    "```\n",
    "\n",
    "Finalement :\n",
    "```python\n",
    "plt.show\n",
    "```"
   ]
  },
  {
   "cell_type": "markdown",
   "id": "158a3a97",
   "metadata": {},
   "source": [
    "## 🧪 Tests supplémentaires\n",
    "\n",
    "### Test 1 : Différents formats de fichiers\n",
    "Dans votre code, changez `data.tsv` par `data.csv` et observez si Copilot :\n",
    "- Supprime le paramètre `sep='\\t'`\n",
    "- Propose `read_csv` sans paramètres supplémentaires\n",
    "\n",
    "### Test 2 : Autres types de graphiques\n",
    "Essayez de remplacer `sns.violin` par :\n",
    "- `sns.box` (boxplot)\n",
    "- `sns.strip` (stripplot)\n",
    "- `sns.swarm` (swarmplot)\n",
    "\n",
    "### Test 3 : Statistiques\n",
    "Tapez `from scipy import` et voyez si Copilot propose des tests statistiques appropriés."
   ]
  },
  {
   "cell_type": "markdown",
   "id": "3285ca94",
   "metadata": {},
   "source": [
    "## 💡 Solution complète (si besoin)\n",
    "\n",
    "```python\n",
    "import pandas as pd\n",
    "import seaborn as sns\n",
    "import matplotlib.pyplot as plt\n",
    "\n",
    "# Chargement des données\n",
    "df = pd.read_csv('data.tsv', sep='\\t')\n",
    "\n",
    "# Exploration\n",
    "print(df.head())\n",
    "print(df.info())\n",
    "\n",
    "# Création du graphique\n",
    "plt.figure(figsize=(8, 6))\n",
    "sns.violinplot(data=df, x='condition', y='expression')\n",
    "plt.title('Distribution of Expression Levels by Condition')\n",
    "plt.xlabel('Experimental Condition')\n",
    "plt.ylabel('Expression Level')\n",
    "plt.show()\n",
    "```"
   ]
  },
  {
   "cell_type": "markdown",
   "id": "636c83b8",
   "metadata": {},
   "source": [
    "## 🎓 Points d'apprentissage\n",
    "\n",
    "### Ce que Copilot fait bien :\n",
    "- ✅ Reconnaît les formats de fichiers (.tsv, .csv)\n",
    "- ✅ Propose les bonnes fonctions de lecture\n",
    "- ✅ Suggère des paramètres appropriés (comme `sep='\\t'`)\n",
    "- ✅ Comprend la structure des DataFrames pandas\n",
    "- ✅ Propose des graphiques cohérents avec les données\n",
    "\n",
    "### Limites observées :\n",
    "- ❌ Peut parfois proposer des noms de colonnes incorrects\n",
    "- ❌ Les suggestions dépendent du contexte disponible\n",
    "- ❌ Peut nécessiter plusieurs tentatives pour le résultat souhaité\n",
    "\n",
    "### Bonnes pratiques pour optimiser Copilot :\n",
    "1. **Noms descriptifs** : `df_expression` plutôt que `df`\n",
    "2. **Commentaires clairs** : décrivez votre intention\n",
    "3. **Structure logique** : imports → lecture → traitement → visualisation\n",
    "4. **Contexte riche** : gardez les fichiers de données dans le même dossier"
   ]
  }
 ],
 "metadata": {
  "language_info": {
   "name": "python"
  }
 },
 "nbformat": 4,
 "nbformat_minor": 5
}
